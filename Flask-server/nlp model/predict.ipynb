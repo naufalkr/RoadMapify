{
  "nbformat": 4,
  "nbformat_minor": 0,
  "metadata": {
    "colab": {
      "provenance": []
    },
    "kernelspec": {
      "name": "python3",
      "display_name": "Python 3"
    },
    "language_info": {
      "name": "python"
    }
  },
  "cells": [
    {
      "cell_type": "code",
      "source": [
        "!pip install PySastrawi"
      ],
      "metadata": {
        "colab": {
          "base_uri": "https://localhost:8080/"
        },
        "id": "B3c1b7VFCI4d",
        "outputId": "2ac7175a-36db-4af2-bf56-3c81acdb5db9"
      },
      "execution_count": 1,
      "outputs": [
        {
          "output_type": "stream",
          "name": "stdout",
          "text": [
            "Collecting PySastrawi\n",
            "  Downloading PySastrawi-1.2.0-py2.py3-none-any.whl.metadata (892 bytes)\n",
            "Downloading PySastrawi-1.2.0-py2.py3-none-any.whl (210 kB)\n",
            "\u001b[2K   \u001b[90m━━━━━━━━━━━━━━━━━━━━━━━━━━━━━━━━━━━━━━━━\u001b[0m \u001b[32m210.6/210.6 kB\u001b[0m \u001b[31m3.6 MB/s\u001b[0m eta \u001b[36m0:00:00\u001b[0m\n",
            "\u001b[?25hInstalling collected packages: PySastrawi\n",
            "Successfully installed PySastrawi-1.2.0\n"
          ]
        }
      ]
    },
    {
      "cell_type": "code",
      "source": [
        "import pandas as pd\n",
        "import numpy as np\n",
        "from Sastrawi.Stemmer.StemmerFactory import StemmerFactory\n",
        "from sklearn.model_selection import train_test_split\n",
        "from sklearn.feature_extraction.text import TfidfVectorizer\n",
        "from sklearn.naive_bayes import MultinomialNB\n",
        "from sklearn.metrics import accuracy_score, classification_report\n",
        "import os\n",
        "import pickle\n",
        "import re\n",
        "from Sastrawi.Stemmer.StemmerFactory import StemmerFactory\n",
        "from Sastrawi.StopWordRemover.StopWordRemoverFactory import StopWordRemoverFactory\n",
        "from sklearn.feature_extraction.text import TfidfVectorizer\n",
        "from sklearn.pipeline import Pipeline\n",
        "import string"
      ],
      "metadata": {
        "id": "m8gBdpSODHIa"
      },
      "execution_count": 1,
      "outputs": []
    },
    {
      "cell_type": "markdown",
      "source": [
        "#### Load saved models, vectorizer, and selector"
      ],
      "metadata": {
        "id": "SmX3xtDzcc0L"
      }
    },
    {
      "cell_type": "code",
      "source": [
        "stemmer_factory = StemmerFactory()\n",
        "stemmer = stemmer_factory.create_stemmer()\n",
        "\n",
        "stop_factory = StopWordRemoverFactory()\n",
        "stop_words = stop_factory.get_stop_words()"
      ],
      "metadata": {
        "id": "iY4eeFqeCQKz"
      },
      "execution_count": 2,
      "outputs": []
    },
    {
      "cell_type": "code",
      "source": [
        "titles = ['backend', 'ai', 'devops', 'frontend', 'gamedev', 'ios', 'android']"
      ],
      "metadata": {
        "id": "NG9Xa-P7D8Lj"
      },
      "execution_count": 3,
      "outputs": []
    },
    {
      "cell_type": "code",
      "source": [
        "file = open(\"/content/bernoulli_model_v8_c7_e255.pickle\", \"rb\")\n",
        "bernoulli = pickle.load(file)\n",
        "file.close()\n",
        "\n",
        "file = open(\"/content/mnb_model_v8_c7_e255.pickle\", \"rb\")\n",
        "multinomial = pickle.load(file)\n",
        "file.close()\n",
        "\n",
        "file = open(\"/content/logistic_model_v8_c7_e255.pickle\", \"rb\")\n",
        "logistic_regression = pickle.load(file)\n",
        "file.close()"
      ],
      "metadata": {
        "id": "hwC-FioeC0JK"
      },
      "execution_count": 4,
      "outputs": []
    },
    {
      "cell_type": "code",
      "source": [
        "with open('/content/tfidf_vectorizer_v8.pkl', 'rb') as f:\n",
        "    tfidf = pickle.load(f)\n",
        "\n",
        "with open('/content/select_kbest_v8.pkl', 'rb') as f:\n",
        "    selector = pickle.load(f)"
      ],
      "metadata": {
        "id": "xkUvmUOHcG2s"
      },
      "execution_count": 5,
      "outputs": []
    },
    {
      "cell_type": "markdown",
      "source": [
        "#### Normalization and text preprocessing"
      ],
      "metadata": {
        "id": "pDPEUelNcnl2"
      }
    },
    {
      "cell_type": "code",
      "source": [
        "class VoteClassifier():\n",
        "    def __init__(self, *classifiers):\n",
        "        self._classifiers = classifiers\n",
        "\n",
        "    def classify(self, prep_data):\n",
        "        votes = [0] * len(titles)\n",
        "        for c in self._classifiers:\n",
        "            v = c.predict_proba(prep_data)\n",
        "            votes += v\n",
        "        votes /= len(self._classifiers)\n",
        "        return votes\n"
      ],
      "metadata": {
        "id": "7qZcy6CQDcBC"
      },
      "execution_count": 6,
      "outputs": []
    },
    {
      "cell_type": "code",
      "source": [
        "from nltk.corpus import wordnet\n",
        "from nltk.tokenize import word_tokenize\n",
        "\n",
        "def normalize_negation(text):\n",
        "    words = word_tokenize(text)\n",
        "    negation = ['tidak', \"bukan\"]\n",
        "    document = []\n",
        "    i = 0\n",
        "    while i < len(words):\n",
        "        if any(string in words[i] for string in negation):\n",
        "            antonym_found = False\n",
        "            synset = wordnet.synsets(words[i+1])\n",
        "            for s in synset:\n",
        "                for synonym in s.lemmas():\n",
        "                    for antonym in synonym.antonyms():\n",
        "                        document.append(antonym.name())\n",
        "                        antonym_found = True\n",
        "                        break\n",
        "                    if antonym_found == True:\n",
        "                        break\n",
        "                if antonym_found == True:\n",
        "                    break\n",
        "            i+=1\n",
        "        else:\n",
        "            document.append(words[i])\n",
        "        i+=1\n",
        "    return document"
      ],
      "metadata": {
        "id": "k5LEuYxCDllh"
      },
      "execution_count": 7,
      "outputs": []
    },
    {
      "cell_type": "code",
      "source": [
        "s = \"saya senang dengan pemrograman yang berkaitan dengan server dan API\""
      ],
      "metadata": {
        "id": "L04n5kkqDtkT"
      },
      "execution_count": 33,
      "outputs": []
    },
    {
      "cell_type": "code",
      "source": [
        "data = [s]\n",
        "prep_data = []\n",
        "# data = normalize_negation(data)\n",
        "\n",
        "for d in data:\n",
        "    d = [stemmer.stem(dt).lower() for dt in d.split(' ')]\n",
        "    d = [dt for dt in d if dt not in stop_words]\n",
        "    prep_data.append(' '.join(d))"
      ],
      "metadata": {
        "id": "SAgBqNFuDwN_"
      },
      "execution_count": 34,
      "outputs": []
    },
    {
      "cell_type": "code",
      "source": [
        "prep_data_tfidf = tfidf.transform(prep_data)\n",
        "\n",
        "prep_data_selected = selector.transform(prep_data_tfidf)\n",
        "\n",
        "prep_data_2d = prep_data_selected"
      ],
      "metadata": {
        "id": "dqTuTff6dMPt"
      },
      "execution_count": 35,
      "outputs": []
    },
    {
      "cell_type": "code",
      "source": [
        "classifier = VoteClassifier(bernoulli, multinomial, logistic_regression)"
      ],
      "metadata": {
        "id": "Hp8DGp1TdYwF"
      },
      "execution_count": 36,
      "outputs": []
    },
    {
      "cell_type": "code",
      "source": [
        "res = classifier.classify(prep_data_2d)\n",
        "print(res)\n",
        "print(titles[np.argmax(res)])"
      ],
      "metadata": {
        "colab": {
          "base_uri": "https://localhost:8080/"
        },
        "id": "mcx0zs2MdZx9",
        "outputId": "15660eb8-1b1b-48b4-bd52-45eabf6320b3"
      },
      "execution_count": 37,
      "outputs": [
        {
          "output_type": "stream",
          "name": "stdout",
          "text": [
            "[[0.46169782 0.05350755 0.03731374 0.07746534 0.0734444  0.13062977\n",
            "  0.16594139]]\n",
            "backend\n"
          ]
        }
      ]
    },
    {
      "cell_type": "code",
      "source": [],
      "metadata": {
        "id": "TS1ZvLuO4m_8"
      },
      "execution_count": null,
      "outputs": []
    }
  ]
}